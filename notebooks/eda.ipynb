{
 "cells": [
  {
   "cell_type": "code",
   "execution_count": 3,
   "metadata": {},
   "outputs": [
    {
     "name": "stdout",
     "output_type": "stream",
     "text": [
      "Package root is '/home/mahdi/flood-prediction'.\n"
     ]
    }
   ],
   "source": [
    "from flood_prediction import notebook_utils\n",
    "\n",
    "notebook_utils.init()"
   ]
  },
  {
   "cell_type": "code",
   "execution_count": 1,
   "metadata": {},
   "outputs": [],
   "source": [
    "import typing\n",
    "from collections.abc import Callable\n",
    "\n",
    "import numpy as np\n",
    "import polars as pl\n",
    "import statsmodels.stats.weightstats  # type: ignore\n",
    "\n",
    "from flood_prediction import _type_aliases, dataset, utils\n"
   ]
  },
  {
   "cell_type": "code",
   "execution_count": null,
   "metadata": {},
   "outputs": [],
   "source": [
    "# Y distribution"
   ]
  },
  {
   "cell_type": "code",
   "execution_count": null,
   "metadata": {},
   "outputs": [],
   "source": [
    "# Feature distribution"
   ]
  },
  {
   "cell_type": "code",
   "execution_count": null,
   "metadata": {},
   "outputs": [],
   "source": [
    "# Correlation feature per Y"
   ]
  },
  {
   "cell_type": "code",
   "execution_count": null,
   "metadata": {},
   "outputs": [],
   "source": [
    "# Correlation matrix"
   ]
  },
  {
   "cell_type": "code",
   "execution_count": null,
   "metadata": {},
   "outputs": [],
   "source": [
    "# Train v test"
   ]
  },
  {
   "cell_type": "code",
   "execution_count": null,
   "metadata": {},
   "outputs": [],
   "source": [
    "def compare_features(\n",
    "    test: Callable[[np.ndarray, np.ndarray], float] = utils.return_arg(  # noqa: B008\n",
    "        statsmodels.stats.weightstats.ztest, -1\n",
    "    ),\n",
    ") -> pl.LazyFrame:\n",
    "    \"\"\"Compare the distributions of each feature.\"\"\"\n",
    "    features = typing.get_args(_type_aliases.DatasetFeature)\n",
    "    train_df = dataset.load(\"train\")\n",
    "    test_df = dataset.load(\"test\")\n",
    "    return pl.LazyFrame(\n",
    "        {\n",
    "            feature: test(\n",
    "                utils.column_to_series(train_df, feature).to_numpy(),\n",
    "                utils.column_to_series(test_df, feature).to_numpy(),\n",
    "            )\n",
    "            for feature in features\n",
    "        }\n",
    "    )\n"
   ]
  }
 ],
 "metadata": {
  "kernelspec": {
   "display_name": ".venv",
   "language": "python",
   "name": "python3"
  },
  "language_info": {
   "codemirror_mode": {
    "name": "ipython",
    "version": 3
   },
   "file_extension": ".py",
   "mimetype": "text/x-python",
   "name": "python",
   "nbconvert_exporter": "python",
   "pygments_lexer": "ipython3",
   "version": "3.11.9"
  }
 },
 "nbformat": 4,
 "nbformat_minor": 2
}
